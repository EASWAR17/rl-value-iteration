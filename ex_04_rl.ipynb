{
  "nbformat": 4,
  "nbformat_minor": 0,
  "metadata": {
    "colab": {
      "provenance": [],
      "include_colab_link": true
    },
    "kernelspec": {
      "name": "python3",
      "display_name": "Python 3"
    },
    "language_info": {
      "name": "python"
    }
  },
  "cells": [
    {
      "cell_type": "markdown",
      "metadata": {
        "id": "view-in-github",
        "colab_type": "text"
      },
      "source": [
        "<a href=\"https://colab.research.google.com/github/EASWAR17/rl-value-iteration/blob/main/ex_04_rl.ipynb\" target=\"_parent\"><img src=\"https://colab.research.google.com/assets/colab-badge.svg\" alt=\"Open In Colab\"/></a>"
      ]
    },
    {
      "cell_type": "code",
      "execution_count": null,
      "metadata": {
        "id": "X-NPnX6RC8EL"
      },
      "outputs": [],
      "source": [
        "import warnings ; warnings.filterwarnings('ignore')\n",
        "\n",
        "import gym, gym_walk\n",
        "import numpy as np\n",
        "\n",
        "import random\n",
        "import warnings\n",
        "\n",
        "warnings.filterwarnings('ignore', category=DeprecationWarning)\n",
        "np.set_printoptions(suppress=True)\n",
        "random.seed(123); np.random.seed(123)\n"
      ]
    },
    {
      "cell_type": "code",
      "source": [
        "pip install git+https://github.com/mimoralea/gym-walk#egg=gym-walk"
      ],
      "metadata": {
        "id": "Xq4FC7N-DYqX",
        "colab": {
          "base_uri": "https://localhost:8080/"
        },
        "outputId": "dfa9c97e-5657-45c1-fe69-849d64e368d1"
      },
      "execution_count": null,
      "outputs": [
        {
          "output_type": "stream",
          "name": "stdout",
          "text": [
            "Collecting gym-walk\n",
            "  Cloning https://github.com/mimoralea/gym-walk to /tmp/pip-install-_3zcmp6x/gym-walk_d673e74fe2c34f9285dc656f935a5ce7\n",
            "  Running command git clone --filter=blob:none --quiet https://github.com/mimoralea/gym-walk /tmp/pip-install-_3zcmp6x/gym-walk_d673e74fe2c34f9285dc656f935a5ce7\n",
            "  Resolved https://github.com/mimoralea/gym-walk to commit 5999016267d6de2f5a63307fb00dfd63de319ac1\n",
            "  Preparing metadata (setup.py) ... \u001b[?25l\u001b[?25hdone\n",
            "Requirement already satisfied: gym in /usr/local/lib/python3.10/dist-packages (from gym-walk) (0.25.2)\n",
            "Requirement already satisfied: numpy>=1.18.0 in /usr/local/lib/python3.10/dist-packages (from gym->gym-walk) (1.25.2)\n",
            "Requirement already satisfied: cloudpickle>=1.2.0 in /usr/local/lib/python3.10/dist-packages (from gym->gym-walk) (2.2.1)\n",
            "Requirement already satisfied: gym-notices>=0.0.4 in /usr/local/lib/python3.10/dist-packages (from gym->gym-walk) (0.0.8)\n",
            "Building wheels for collected packages: gym-walk\n",
            "  Building wheel for gym-walk (setup.py) ... \u001b[?25l\u001b[?25hdone\n",
            "  Created wheel for gym-walk: filename=gym_walk-0.0.2-py3-none-any.whl size=4054 sha256=e8e6520fb90e3d48d2ad7e58d9174e7159a82296c9f253bb9a153da6f2a02579\n",
            "  Stored in directory: /tmp/pip-ephem-wheel-cache-j5wtm7i_/wheels/24/fe/c4/0cbc7511d29265bad7e28a09311db3f87f0cafba74af54d530\n",
            "Successfully built gym-walk\n",
            "Installing collected packages: gym-walk\n",
            "Successfully installed gym-walk-0.0.2\n"
          ]
        }
      ]
    },
    {
      "cell_type": "code",
      "source": [
        "def print_policy(pi, P, action_symbols=('<', 'v', '>', '^'), n_cols=4, title='Policy:'):\n",
        "    print(title)\n",
        "    arrs = {k:v for k,v in enumerate(action_symbols)}\n",
        "    for s in range(len(P)):\n",
        "        a = pi(s)\n",
        "        print(\"| \", end=\"\")\n",
        "        if np.all([done for action in P[s].values() for _, _, _, done in action]):\n",
        "            print(\"\".rjust(9), end=\" \")\n",
        "        else:\n",
        "            print(str(s).zfill(2), arrs[a].rjust(6), end=\" \")\n",
        "        if (s + 1) % n_cols == 0: print(\"|\")"
      ],
      "metadata": {
        "id": "ULnSv0hyELsY"
      },
      "execution_count": null,
      "outputs": []
    },
    {
      "cell_type": "code",
      "source": [
        "def print_state_value_function(V, P, n_cols=4, prec=3, title='State-value function:'):\n",
        "    print(title)\n",
        "    for s in range(len(P)):\n",
        "        v = V[s]\n",
        "        print(\"| \", end=\"\")\n",
        "        if np.all([done for action in P[s].values() for _, _, _, done in action]):\n",
        "            print(\"\".rjust(9), end=\" \")\n",
        "        else:\n",
        "            print(str(s).zfill(2), '{}'.format(np.round(v, prec)).rjust(6), end=\" \")\n",
        "        if (s + 1) % n_cols == 0: print(\"|\")"
      ],
      "metadata": {
        "id": "odrRzhpWFxY6"
      },
      "execution_count": null,
      "outputs": []
    },
    {
      "cell_type": "code",
      "source": [
        "def probability_success(env, pi, goal_state, n_episodes=100, max_steps=200):\n",
        "    random.seed(123); np.random.seed(123) ; env.seed(123)\n",
        "    results = []\n",
        "    for _ in range(n_episodes):\n",
        "        state, done, steps = env.reset(), False, 0\n",
        "        while not done and steps < max_steps:\n",
        "            state, _, done, h = env.step(pi(state))\n",
        "            steps += 1\n",
        "        results.append(state == goal_state)\n",
        "    return np.sum(results)/len(results)"
      ],
      "metadata": {
        "id": "1TQZrao3KV4z"
      },
      "execution_count": null,
      "outputs": []
    },
    {
      "cell_type": "code",
      "source": [
        "def mean_return(env, pi, n_episodes=100, max_steps=200):\n",
        "    random.seed(123); np.random.seed(123) ; env.seed(123)\n",
        "    results = []\n",
        "    for _ in range(n_episodes):\n",
        "        state, done, steps = env.reset(), False, 0\n",
        "        results.append(0.0)\n",
        "        while not done and steps < max_steps:\n",
        "            state, reward, done, _ = env.step(pi(state))\n",
        "            results[-1] += reward\n",
        "            steps += 1\n",
        "    return np.mean(results)"
      ],
      "metadata": {
        "id": "Jo6HA0ljKYWS"
      },
      "execution_count": null,
      "outputs": []
    },
    {
      "cell_type": "markdown",
      "source": [
        "# Creating the Frozen Lake environment"
      ],
      "metadata": {
        "id": "1ibH_URngdY3"
      }
    },
    {
      "cell_type": "code",
      "source": [
        "env = gym.make('FrozenLake-v1')\n",
        "init_state = env.reset()\n",
        "goal_state = 15\n",
        "P = env.env.P"
      ],
      "metadata": {
        "id": "daeOaNMIfPsM"
      },
      "execution_count": null,
      "outputs": []
    },
    {
      "cell_type": "code",
      "source": [
        "desc = ['SFFF','FHFH','GFFH','HFFF']\n",
        "env = gym.make('FrozenLake-v1',desc = desc)\n",
        "init_state = env.reset()\n",
        "goal_state = 8\n",
        "P = env.env.P"
      ],
      "metadata": {
        "id": "p_YMmt2HADz1"
      },
      "execution_count": null,
      "outputs": []
    },
    {
      "cell_type": "code",
      "source": [
        "init_state"
      ],
      "metadata": {
        "id": "gx5F-kzIglWD",
        "colab": {
          "base_uri": "https://localhost:8080/"
        },
        "outputId": "ea41e92e-292a-406a-95dc-7a319efbe67f"
      },
      "execution_count": null,
      "outputs": [
        {
          "output_type": "execute_result",
          "data": {
            "text/plain": [
              "0"
            ]
          },
          "metadata": {},
          "execution_count": 26
        }
      ]
    },
    {
      "cell_type": "code",
      "source": [
        "P"
      ],
      "metadata": {
        "colab": {
          "base_uri": "https://localhost:8080/"
        },
        "id": "LG33nizi2qEp",
        "outputId": "1bde4ca6-744a-4805-a54f-79f8e3163eb7"
      },
      "execution_count": null,
      "outputs": [
        {
          "output_type": "execute_result",
          "data": {
            "text/plain": [
              "{0: {0: [(0.3333333333333333, 0, 0.0, False),\n",
              "   (0.3333333333333333, 0, 0.0, False),\n",
              "   (0.3333333333333333, 4, 0.0, False)],\n",
              "  1: [(0.3333333333333333, 0, 0.0, False),\n",
              "   (0.3333333333333333, 4, 0.0, False),\n",
              "   (0.3333333333333333, 1, 0.0, False)],\n",
              "  2: [(0.3333333333333333, 4, 0.0, False),\n",
              "   (0.3333333333333333, 1, 0.0, False),\n",
              "   (0.3333333333333333, 0, 0.0, False)],\n",
              "  3: [(0.3333333333333333, 1, 0.0, False),\n",
              "   (0.3333333333333333, 0, 0.0, False),\n",
              "   (0.3333333333333333, 0, 0.0, False)]},\n",
              " 1: {0: [(0.3333333333333333, 1, 0.0, False),\n",
              "   (0.3333333333333333, 0, 0.0, False),\n",
              "   (0.3333333333333333, 5, 0.0, True)],\n",
              "  1: [(0.3333333333333333, 0, 0.0, False),\n",
              "   (0.3333333333333333, 5, 0.0, True),\n",
              "   (0.3333333333333333, 2, 0.0, False)],\n",
              "  2: [(0.3333333333333333, 5, 0.0, True),\n",
              "   (0.3333333333333333, 2, 0.0, False),\n",
              "   (0.3333333333333333, 1, 0.0, False)],\n",
              "  3: [(0.3333333333333333, 2, 0.0, False),\n",
              "   (0.3333333333333333, 1, 0.0, False),\n",
              "   (0.3333333333333333, 0, 0.0, False)]},\n",
              " 2: {0: [(0.3333333333333333, 2, 0.0, False),\n",
              "   (0.3333333333333333, 1, 0.0, False),\n",
              "   (0.3333333333333333, 6, 0.0, False)],\n",
              "  1: [(0.3333333333333333, 1, 0.0, False),\n",
              "   (0.3333333333333333, 6, 0.0, False),\n",
              "   (0.3333333333333333, 3, 0.0, False)],\n",
              "  2: [(0.3333333333333333, 6, 0.0, False),\n",
              "   (0.3333333333333333, 3, 0.0, False),\n",
              "   (0.3333333333333333, 2, 0.0, False)],\n",
              "  3: [(0.3333333333333333, 3, 0.0, False),\n",
              "   (0.3333333333333333, 2, 0.0, False),\n",
              "   (0.3333333333333333, 1, 0.0, False)]},\n",
              " 3: {0: [(0.3333333333333333, 3, 0.0, False),\n",
              "   (0.3333333333333333, 2, 0.0, False),\n",
              "   (0.3333333333333333, 7, 0.0, True)],\n",
              "  1: [(0.3333333333333333, 2, 0.0, False),\n",
              "   (0.3333333333333333, 7, 0.0, True),\n",
              "   (0.3333333333333333, 3, 0.0, False)],\n",
              "  2: [(0.3333333333333333, 7, 0.0, True),\n",
              "   (0.3333333333333333, 3, 0.0, False),\n",
              "   (0.3333333333333333, 3, 0.0, False)],\n",
              "  3: [(0.3333333333333333, 3, 0.0, False),\n",
              "   (0.3333333333333333, 3, 0.0, False),\n",
              "   (0.3333333333333333, 2, 0.0, False)]},\n",
              " 4: {0: [(0.3333333333333333, 0, 0.0, False),\n",
              "   (0.3333333333333333, 4, 0.0, False),\n",
              "   (0.3333333333333333, 8, 1.0, True)],\n",
              "  1: [(0.3333333333333333, 4, 0.0, False),\n",
              "   (0.3333333333333333, 8, 1.0, True),\n",
              "   (0.3333333333333333, 5, 0.0, True)],\n",
              "  2: [(0.3333333333333333, 8, 1.0, True),\n",
              "   (0.3333333333333333, 5, 0.0, True),\n",
              "   (0.3333333333333333, 0, 0.0, False)],\n",
              "  3: [(0.3333333333333333, 5, 0.0, True),\n",
              "   (0.3333333333333333, 0, 0.0, False),\n",
              "   (0.3333333333333333, 4, 0.0, False)]},\n",
              " 5: {0: [(1.0, 5, 0, True)],\n",
              "  1: [(1.0, 5, 0, True)],\n",
              "  2: [(1.0, 5, 0, True)],\n",
              "  3: [(1.0, 5, 0, True)]},\n",
              " 6: {0: [(0.3333333333333333, 2, 0.0, False),\n",
              "   (0.3333333333333333, 5, 0.0, True),\n",
              "   (0.3333333333333333, 10, 0.0, False)],\n",
              "  1: [(0.3333333333333333, 5, 0.0, True),\n",
              "   (0.3333333333333333, 10, 0.0, False),\n",
              "   (0.3333333333333333, 7, 0.0, True)],\n",
              "  2: [(0.3333333333333333, 10, 0.0, False),\n",
              "   (0.3333333333333333, 7, 0.0, True),\n",
              "   (0.3333333333333333, 2, 0.0, False)],\n",
              "  3: [(0.3333333333333333, 7, 0.0, True),\n",
              "   (0.3333333333333333, 2, 0.0, False),\n",
              "   (0.3333333333333333, 5, 0.0, True)]},\n",
              " 7: {0: [(1.0, 7, 0, True)],\n",
              "  1: [(1.0, 7, 0, True)],\n",
              "  2: [(1.0, 7, 0, True)],\n",
              "  3: [(1.0, 7, 0, True)]},\n",
              " 8: {0: [(1.0, 8, 0, True)],\n",
              "  1: [(1.0, 8, 0, True)],\n",
              "  2: [(1.0, 8, 0, True)],\n",
              "  3: [(1.0, 8, 0, True)]},\n",
              " 9: {0: [(0.3333333333333333, 5, 0.0, True),\n",
              "   (0.3333333333333333, 8, 1.0, True),\n",
              "   (0.3333333333333333, 13, 0.0, False)],\n",
              "  1: [(0.3333333333333333, 8, 1.0, True),\n",
              "   (0.3333333333333333, 13, 0.0, False),\n",
              "   (0.3333333333333333, 10, 0.0, False)],\n",
              "  2: [(0.3333333333333333, 13, 0.0, False),\n",
              "   (0.3333333333333333, 10, 0.0, False),\n",
              "   (0.3333333333333333, 5, 0.0, True)],\n",
              "  3: [(0.3333333333333333, 10, 0.0, False),\n",
              "   (0.3333333333333333, 5, 0.0, True),\n",
              "   (0.3333333333333333, 8, 1.0, True)]},\n",
              " 10: {0: [(0.3333333333333333, 6, 0.0, False),\n",
              "   (0.3333333333333333, 9, 0.0, False),\n",
              "   (0.3333333333333333, 14, 0.0, False)],\n",
              "  1: [(0.3333333333333333, 9, 0.0, False),\n",
              "   (0.3333333333333333, 14, 0.0, False),\n",
              "   (0.3333333333333333, 11, 0.0, True)],\n",
              "  2: [(0.3333333333333333, 14, 0.0, False),\n",
              "   (0.3333333333333333, 11, 0.0, True),\n",
              "   (0.3333333333333333, 6, 0.0, False)],\n",
              "  3: [(0.3333333333333333, 11, 0.0, True),\n",
              "   (0.3333333333333333, 6, 0.0, False),\n",
              "   (0.3333333333333333, 9, 0.0, False)]},\n",
              " 11: {0: [(1.0, 11, 0, True)],\n",
              "  1: [(1.0, 11, 0, True)],\n",
              "  2: [(1.0, 11, 0, True)],\n",
              "  3: [(1.0, 11, 0, True)]},\n",
              " 12: {0: [(1.0, 12, 0, True)],\n",
              "  1: [(1.0, 12, 0, True)],\n",
              "  2: [(1.0, 12, 0, True)],\n",
              "  3: [(1.0, 12, 0, True)]},\n",
              " 13: {0: [(0.3333333333333333, 9, 0.0, False),\n",
              "   (0.3333333333333333, 12, 0.0, True),\n",
              "   (0.3333333333333333, 13, 0.0, False)],\n",
              "  1: [(0.3333333333333333, 12, 0.0, True),\n",
              "   (0.3333333333333333, 13, 0.0, False),\n",
              "   (0.3333333333333333, 14, 0.0, False)],\n",
              "  2: [(0.3333333333333333, 13, 0.0, False),\n",
              "   (0.3333333333333333, 14, 0.0, False),\n",
              "   (0.3333333333333333, 9, 0.0, False)],\n",
              "  3: [(0.3333333333333333, 14, 0.0, False),\n",
              "   (0.3333333333333333, 9, 0.0, False),\n",
              "   (0.3333333333333333, 12, 0.0, True)]},\n",
              " 14: {0: [(0.3333333333333333, 10, 0.0, False),\n",
              "   (0.3333333333333333, 13, 0.0, False),\n",
              "   (0.3333333333333333, 14, 0.0, False)],\n",
              "  1: [(0.3333333333333333, 13, 0.0, False),\n",
              "   (0.3333333333333333, 14, 0.0, False),\n",
              "   (0.3333333333333333, 15, 0.0, False)],\n",
              "  2: [(0.3333333333333333, 14, 0.0, False),\n",
              "   (0.3333333333333333, 15, 0.0, False),\n",
              "   (0.3333333333333333, 10, 0.0, False)],\n",
              "  3: [(0.3333333333333333, 15, 0.0, False),\n",
              "   (0.3333333333333333, 10, 0.0, False),\n",
              "   (0.3333333333333333, 13, 0.0, False)]},\n",
              " 15: {0: [(0.3333333333333333, 11, 0.0, True),\n",
              "   (0.3333333333333333, 14, 0.0, False),\n",
              "   (0.3333333333333333, 15, 0.0, False)],\n",
              "  1: [(0.3333333333333333, 14, 0.0, False),\n",
              "   (0.3333333333333333, 15, 0.0, False),\n",
              "   (0.3333333333333333, 15, 0.0, False)],\n",
              "  2: [(0.3333333333333333, 15, 0.0, False),\n",
              "   (0.3333333333333333, 15, 0.0, False),\n",
              "   (0.3333333333333333, 11, 0.0, True)],\n",
              "  3: [(0.3333333333333333, 15, 0.0, False),\n",
              "   (0.3333333333333333, 11, 0.0, True),\n",
              "   (0.3333333333333333, 14, 0.0, False)]}}"
            ]
          },
          "metadata": {},
          "execution_count": 37
        }
      ]
    },
    {
      "cell_type": "code",
      "source": [
        "P[14][3][0] = (P[14][3][0][0],P[14][3][0][1],0,P[14][3][0][3])"
      ],
      "metadata": {
        "id": "Xw1lQiZJ9ihw"
      },
      "execution_count": null,
      "outputs": []
    },
    {
      "cell_type": "code",
      "source": [
        "\n"
      ],
      "metadata": {
        "id": "5oNhzsQV9ipG"
      },
      "execution_count": null,
      "outputs": []
    },
    {
      "cell_type": "code",
      "source": [
        "P = {0: {0: [(0.3333333333333333, 0, 0.0, False),\n",
        "   (0.3333333333333333, 0, 0.0, False),\n",
        "   (0.3333333333333333, 4, 0.0, False)],\n",
        "  1: [(0.3333333333333333, 0, 0.0, False),\n",
        "   (0.3333333333333333, 4, 0.0, False),\n",
        "   (0.3333333333333333, 1, 0.0, False)],\n",
        "  2: [(0.3333333333333333, 4, 0.0, False),\n",
        "   (0.3333333333333333, 1, 0.0, False),\n",
        "   (0.3333333333333333, 0, 0.0, False)],\n",
        "  3: [(0.3333333333333333, 1, 0.0, False),\n",
        "   (0.3333333333333333, 0, 0.0, False),\n",
        "   (0.3333333333333333, 0, 0.0, False)]},\n",
        " 1: {0: [(0.3333333333333333, 1, 0.0, False),\n",
        "   (0.3333333333333333, 0, 0.0, False),\n",
        "   (0.3333333333333333, 5, 0.0, True)],\n",
        "  1: [(0.3333333333333333, 0, 0.0, False),\n",
        "   (0.3333333333333333, 5, 0.0, True),\n",
        "   (0.3333333333333333, 2, 0.0, False)],\n",
        "  2: [(0.3333333333333333, 5, 0.0, True),\n",
        "   (0.3333333333333333, 2, 0.0, False),\n",
        "   (0.3333333333333333, 1, 0.0, False)],\n",
        "  3: [(0.3333333333333333, 2, 0.0, False),\n",
        "   (0.3333333333333333, 1, 0.0, False),\n",
        "   (0.3333333333333333, 0, 0.0, False)]},\n",
        " 2: {0: [(0.3333333333333333, 2, 0.0, False),\n",
        "   (0.3333333333333333, 1, 0.0, False),\n",
        "   (0.3333333333333333, 6, 0.0, False)],\n",
        "  1: [(0.3333333333333333, 1, 0.0, False),\n",
        "   (0.3333333333333333, 6, 0.0, False),\n",
        "   (0.3333333333333333, 3, 0.0, False)],\n",
        "  2: [(0.3333333333333333, 6, 0.0, False),\n",
        "   (0.3333333333333333, 3, 0.0, False),\n",
        "   (0.3333333333333333, 2, 0.0, False)],\n",
        "  3: [(0.3333333333333333, 3, 0.0, False),\n",
        "   (0.3333333333333333, 2, 0.0, False),\n",
        "   (0.3333333333333333, 1, 0.0, False)]},\n",
        " 3: {0: [(0.3333333333333333, 3, 0.0, False),\n",
        "   (0.3333333333333333, 2, 0.0, False),\n",
        "   (0.3333333333333333, 7, 0.0, True)],\n",
        "  1: [(0.3333333333333333, 2, 0.0, False),\n",
        "   (0.3333333333333333, 7, 0.0, True),\n",
        "   (0.3333333333333333, 3, 0.0, False)],\n",
        "  2: [(0.3333333333333333, 7, 0.0, True),\n",
        "   (0.3333333333333333, 3, 0.0, False),\n",
        "   (0.3333333333333333, 3, 0.0, False)],\n",
        "  3: [(0.3333333333333333, 3, 0.0, False),\n",
        "   (0.3333333333333333, 3, 0.0, False),\n",
        "   (0.3333333333333333, 2, 0.0, False)]},\n",
        " 4: {0: [(0.3333333333333333, 0, 0.0, False),\n",
        "   (0.3333333333333333, 4, 0.0, False),\n",
        "   (0.3333333333333333, 8, 1.0, True)],\n",
        "  1: [(0.3333333333333333, 4, 0.0, False),\n",
        "   (0.3333333333333333, 8, 1.0, True),\n",
        "   (0.3333333333333333, 5, 0.0, True)],\n",
        "  2: [(0.3333333333333333, 8, 0.0, False),\n",
        "   (0.3333333333333333, 5, 0.0, True),\n",
        "   (0.3333333333333333, 0, 0.0, False)],\n",
        "  3: [(0.3333333333333333, 5, 0.0, True),\n",
        "   (0.3333333333333333, 0, 0.0, False),\n",
        "   (0.3333333333333333, 4, 0.0, False)]},\n",
        " 5: {0: [(1.0, 5, 0, True)],\n",
        "  1: [(1.0, 5, 0, True)],\n",
        "  2: [(1.0, 5, 0, True)],\n",
        "  3: [(1.0, 5, 0, True)]},\n",
        " 6: {0: [(0.3333333333333333, 2, 0.0, False),\n",
        "   (0.3333333333333333, 5, 0.0, True),\n",
        "   (0.3333333333333333, 10, 0.0, False)],\n",
        "  1: [(0.3333333333333333, 5, 0.0, True),\n",
        "   (0.3333333333333333, 10, 0.0, False),\n",
        "   (0.3333333333333333, 7, 0.0, True)],\n",
        "  2: [(0.3333333333333333, 10, 0.0, False),\n",
        "   (0.3333333333333333, 7, 0.0, True),\n",
        "   (0.3333333333333333, 2, 0.0, False)],\n",
        "  3: [(0.3333333333333333, 7, 0.0, True),\n",
        "   (0.3333333333333333, 2, 0.0, False),\n",
        "   (0.3333333333333333, 5, 0.0, True)]},\n",
        " 7: {0: [(1.0, 7, 0, True)],\n",
        "  1: [(1.0, 7, 0, True)],\n",
        "  2: [(1.0, 7, 0, True)],\n",
        "  3: [(1.0, 7, 0, True)]},\n",
        " 8: {0: [(1.0, 8, 0, True)],\n",
        "  1: [(1.0, 8, 0, True)],\n",
        "  2: [(1.0, 8, 0, True)],\n",
        "  3: [(1.0, 8, 0, True)]},\n",
        " 9: {0: [(0.3333333333333333, 5, 0.0, True),\n",
        "   (0.3333333333333333, 8, 1.0, True),\n",
        "   (0.3333333333333333, 13, 0.0, False)],\n",
        "  1: [(0.3333333333333333, 8, 1.0, True),\n",
        "   (0.3333333333333333, 13, 0.0, False),\n",
        "   (0.3333333333333333, 10, 0.0, False)],\n",
        "  2: [(0.3333333333333333, 13, 0.0, False),\n",
        "   (0.3333333333333333, 10, 0.0, False),\n",
        "   (0.3333333333333333, 5, 0.0, True)],\n",
        "  3: [(0.3333333333333333, 10, 0.0, False),\n",
        "   (0.3333333333333333, 5, 0.0, True),\n",
        "   (0.3333333333333333, 8, 1.0, True)]},\n",
        " 10: {0: [(0.3333333333333333, 6, 0.0, False),\n",
        "   (0.3333333333333333, 9, 0.0, False),\n",
        "   (0.3333333333333333, 14, 0.0, False)],\n",
        "  1: [(0.3333333333333333, 9, 0.0, False),\n",
        "   (0.3333333333333333, 14, 0.0, False),\n",
        "   (0.3333333333333333, 11, 0.0, True)],\n",
        "  2: [(0.3333333333333333, 14, 0.0, False),\n",
        "   (0.3333333333333333, 11, 0.0, True),\n",
        "   (0.3333333333333333, 6, 0.0, False)],\n",
        "  3: [(0.3333333333333333, 11, 0.0, True),\n",
        "   (0.3333333333333333, 6, 0.0, False),\n",
        "   (0.3333333333333333, 9, 0.0, False)]},\n",
        " 11: {0: [(1.0, 11, 0, True)],\n",
        "  1: [(1.0, 11, 0, True)],\n",
        "  2: [(1.0, 11, 0, True)],\n",
        "  3: [(1.0, 11, 0, True)]},\n",
        " 12: {0: [(1.0, 12, 0, True)],\n",
        "  1: [(1.0, 12, 0, True)],\n",
        "  2: [(1.0, 12, 0, True)],\n",
        "  3: [(1.0, 12, 0, True)]},\n",
        " 13: {0: [(0.3333333333333333, 9, 0.0, False),\n",
        "   (0.3333333333333333, 12, 0.0, True),\n",
        "   (0.3333333333333333, 13, 0.0, False)],\n",
        "  1: [(0.3333333333333333, 12, 0.0, True),\n",
        "   (0.3333333333333333, 13, 0.0, False),\n",
        "   (0.3333333333333333, 14, 0.0, False)],\n",
        "  2: [(0.3333333333333333, 13, 0.0, False),\n",
        "   (0.3333333333333333, 14, 0.0, False),\n",
        "   (0.3333333333333333, 9, 0.0, False)],\n",
        "  3: [(0.3333333333333333, 14, 0.0, False),\n",
        "   (0.3333333333333333, 9, 0.0, False),\n",
        "   (0.3333333333333333, 12, 0.0, True)]},\n",
        " 14: {0: [(0.3333333333333333, 10, 0.0, False),\n",
        "   (0.3333333333333333, 13, 0.0, False),\n",
        "   (0.3333333333333333, 14, 0.0, False)],\n",
        "  1: [(0.3333333333333333, 13, 0.0, False),\n",
        "   (0.3333333333333333, 14, 0.0, False),\n",
        "   (0.3333333333333333, 15, 0.0, True)],\n",
        "  2: [(0.3333333333333333, 14, 0.0, False),\n",
        "   (0.3333333333333333, 15, 0.0, True),\n",
        "   (0.3333333333333333, 10, 0.0, False)],\n",
        "  3: [(0.3333333333333333, 15, 0.0, True),\n",
        "   (0.3333333333333333, 10, 0.0, False),\n",
        "   (0.3333333333333333, 13, 0.0, False)]},\n",
        " 15: {0: [(1.0, 15, 0, True)],\n",
        "  1: [(1.0, 15, 0, True)],\n",
        "  2: [(1.0, 15, 0, True)],\n",
        "  3: [(1.0, 15, 0, True)]}}"
      ],
      "metadata": {
        "id": "E-eY7T4P7gPE"
      },
      "execution_count": null,
      "outputs": []
    },
    {
      "cell_type": "code",
      "source": [
        "#action 0 : left , 1: up , 2: right , 3 : down\n",
        "P= {0: {0: [(0.8, 1, 0.0, False),\n",
        "   (0.2, 0, 0.0, False)],\n",
        "  1: [(0.8, 4, 0.0, False),\n",
        "   (0.2, 0, 0.0, False)],\n",
        "  2: [(0.8, 1, 0.0, False),\n",
        "   (0.2, 0, 0.0, False)],\n",
        "  3: [(0.8, 4, 0.0, False),\n",
        "   (0.2, 0, 0.0, False)]},\n",
        " 1: {0: [(0.8, 2, 0.0, False),\n",
        "   (0.2, 1, 0.0, False)],\n",
        "  1: [(0.8, 5, 0.0, False),\n",
        "   (0.2, 1, 0.0, False)],\n",
        "  2: [(0.8, 2, 0.0, False),\n",
        "   (0.2, 1, 0.0, False)],\n",
        "  3: [(0.8, 5, 0.0, False),\n",
        "   (0.2, 1, 0.0, False)]},\n",
        " 2: {0: [(1.0, 6, 0, True)],\n",
        "  1: [(1.0, 6, 0, True)],\n",
        "  2: [(1.0, 6, 0, True)],\n",
        "  3: [(1.0, 6, 0, True)]},\n",
        " 3: {0: [(0.8, 2, 0.0, False),\n",
        "   (0.2, 3, 0.0, False)],\n",
        "  1: [(0.8, 3, 0.0, False),\n",
        "   (0.2, 7, 0.0, False)],\n",
        "  2: [(0.8, 2, 0.0, False),\n",
        "   (0.2, 3, 0.0, False)],\n",
        "  3: [(0.8, 3, 0.0, False),\n",
        "   (0.2, 7, 0.0, False)]},\n",
        " 4: {0: [(0.8, 8, 0.0, False),\n",
        "   (0.2, 12, 0.0, False)],\n",
        "  1: [(0.8, 9, 0.0, False),\n",
        "   (0.2, 8, 0.0, False)],\n",
        "  2: [(0.8, 9, 0.0, False),\n",
        "   (0.2, 8, 0.0, False)],\n",
        "  3: [(0.8, 12, 0.0, False),\n",
        "   (0.2, 8, 0.0, False)]},\n",
        " 5: {0: [(1.0, 5, 0, True)],\n",
        "  1: [(1.0, 5, 0, True)],\n",
        "  2: [(1.0, 5, 0, True)],\n",
        "  3: [(1.0, 5, 0, True)]},\n",
        " 6: {0: [(1.0, 10, 0, True)],\n",
        "  1: [(1.0, 10, 0, True)],\n",
        "  2: [(1.0, 10, 0, True)],\n",
        "  3: [(1.0, 10, 0, True)]},\n",
        " 7: {0: [(1.0, 7, 0, True)],\n",
        "  1: [(1.0, 7, 0, True)],\n",
        "  2: [(1.0, 7, 0, True)],\n",
        "  3: [(1.0, 7, 0, True)]},\n",
        " 8: {0: [(1.0, 9, 0, True)],\n",
        "  1: [(1.0, 9, 0, True)],\n",
        "  2: [(1.0, 9, 0, True)],\n",
        "  3: [(1.0, 9, 0, True)]},\n",
        " 9: {0: [(1.0, 10, 0, True)],\n",
        "  1: [(1.0, 10, 0, True)],\n",
        "  2: [(1.0, 10, 0, True)],\n",
        "  3: [(1.0, 10, 0, True)]},\n",
        " 10: {0: [(1.0, 14, 0, True)],\n",
        "  1: [(1.0, 14, 0, True)],\n",
        "  2: [(1.0, 14, 0, True)],\n",
        "  3: [(1.0, 14, 0, True)]},\n",
        " 11: {0: [(1.0, 11, 0, True)],\n",
        "  1: [(1.0, 11, 0, True)],\n",
        "  2: [(1.0, 11, 0, True)],\n",
        "  3: [(1.0, 11, 0, True)]},\n",
        " 12: {0: [(1.0, 12, 0, True)],\n",
        "  1: [(1.0, 12, 0, True)],\n",
        "  2: [(1.0, 12, 0, True)],\n",
        "  3: [(1.0, 12, 0, True)]},\n",
        " 13: {0: [(0.8, 14, 0.0, False),\n",
        "   (0.2, 13, 0.0, False)],\n",
        "  1: [(0.8, 9, 0.0, False),\n",
        "   (0.2, 13, 0.0, False)],\n",
        "  2: [(0.8, 14, 0.0, False),\n",
        "   (0.2, 13, 0.0, False)],\n",
        "  3: [(0.8, 13, 0.0, False),\n",
        "   (0.2, 9, 0.0, False)]},\n",
        " 14: {0: [(0.8, 15, 1.0, True),\n",
        "   (0.2, 14, 0.0, False)],\n",
        "  1: [(0.8, 14, 0.0, False),\n",
        "   (0.2, 15, 1.0, True)],\n",
        "  2: [(1.0, 15, 1.0, True)],\n",
        "  3: [(0.8, 15, 1.0, True),\n",
        "   (0.2, 14, 0.0, False),]},\n",
        " 15: {0: [(1.0, 15, 0, True)],\n",
        "  1: [(1.0, 15, 0, True)],\n",
        "  2: [(1.0, 15, 0, True)],\n",
        "  3: [(1.0, 15, 0, True)]}}"
      ],
      "metadata": {
        "id": "Q4sbd0PH50uk"
      },
      "execution_count": null,
      "outputs": []
    },
    {
      "cell_type": "code",
      "source": [
        "#action 0 : left , 1: up , 2: right , 3 : down\n",
        "P= {0: {0: [(1.0, 1, 0, True)],\n",
        "  1: [(1.0, 1, 0, True)],\n",
        "  2: [(1.0, 1, 0, True)],\n",
        "  3: [(1.0, 1, 0, True)]},\n",
        " 1: {0: [(1.0, 2, 0, True)],\n",
        "  1: [(1.0, 2, 0, True)],\n",
        "  2: [(1.0, 2, 0, True)],\n",
        "  3: [(1.0, 2, 0, True)]},\n",
        " 2: {0: [(1.0, 6, 0, True)],\n",
        "  1: [(1.0, 6, 0, True)],\n",
        "  2: [(1.0, 6, 0, True)],\n",
        "  3: [(1.0, 6, 0, True)]},\n",
        " 3: {0: [(0.8, 2, 0.0, False),\n",
        "   (0.2, 3, 0.0, False)],\n",
        "  1: [(0.8, 3, 0.0, False),\n",
        "   (0.2, 7, 0.0, False)],\n",
        "  2: [(0.8, 2, 0.0, False),\n",
        "   (0.2, 3, 0.0, False)],\n",
        "  3: [(0.8, 3, 0.0, False),\n",
        "   (0.2, 7, 0.0, False)]},\n",
        " 4: {0: [(0.8, 8, 0.0, False),\n",
        "   (0.2, 12, 0.0, False)],\n",
        "  1: [(0.8, 9, 0.0, False),\n",
        "   (0.2, 8, 0.0, False)],\n",
        "  2: [(0.8, 9, 0.0, False),\n",
        "   (0.2, 8, 0.0, False)],\n",
        "  3: [(0.8, 12, 0.0, False),\n",
        "   (0.2, 8, 0.0, False)]},\n",
        " 5: {0: [(1.0, 5, 0, True)],\n",
        "  1: [(1.0, 5, 0, True)],\n",
        "  2: [(1.0, 5, 0, True)],\n",
        "  3: [(1.0, 5, 0, True)]},\n",
        " 6: {0: [(1.0, 10, 0, True)],\n",
        "  1: [(1.0, 10, 0, True)],\n",
        "  2: [(1.0, 10, 0, True)],\n",
        "  3: [(1.0, 10, 0, True)]},\n",
        " 7: {0: [(1.0, 7, 0, True)],\n",
        "  1: [(1.0, 7, 0, True)],\n",
        "  2: [(1.0, 7, 0, True)],\n",
        "  3: [(1.0, 7, 0, True)]},\n",
        " 8: {0: [(1.0, 9, 0, True)],\n",
        "  1: [(1.0, 9, 0, True)],\n",
        "  2: [(1.0, 9, 0, True)],\n",
        "  3: [(1.0, 9, 0, True)]},\n",
        " 9: {0: [(1.0, 10, 0, True)],\n",
        "  1: [(1.0, 10, 0, True)],\n",
        "  2: [(1.0, 10, 0, True)],\n",
        "  3: [(1.0, 10, 0, True)]},\n",
        " 10: {0: [(1.0, 14, 0, True)],\n",
        "  1: [(1.0, 14, 0, True)],\n",
        "  2: [(1.0, 14, 0, True)],\n",
        "  3: [(1.0, 14, 0, True)]},\n",
        " 11: {0: [(1.0, 11, 0, True)],\n",
        "  1: [(1.0, 11, 0, True)],\n",
        "  2: [(1.0, 11, 0, True)],\n",
        "  3: [(1.0, 11, 0, True)]},\n",
        " 12: {0: [(1.0, 12, 0, True)],\n",
        "  1: [(1.0, 12, 0, True)],\n",
        "  2: [(1.0, 12, 0, True)],\n",
        "  3: [(1.0, 12, 0, True)]},\n",
        " 13: {0: [(0.8, 14, 0.0, False),\n",
        "   (0.2, 13, 0.0, False)],\n",
        "  1: [(0.8, 9, 0.0, False),\n",
        "   (0.2, 13, 0.0, False)],\n",
        "  2: [(0.8, 14, 0.0, False),\n",
        "   (0.2, 13, 0.0, False)],\n",
        "  3: [(0.8, 13, 0.0, False),\n",
        "   (0.2, 9, 0.0, False)]},\n",
        " 14: {0: [(0.8, 15, 1.0, True),\n",
        "   (0.2, 14, 0.0, False)],\n",
        "  1: [(0.8, 14, 0.0, False),\n",
        "   (0.2, 15, 1.0, True)],\n",
        "  2: [(1.0, 15, 1.0, True)],\n",
        "  3: [(0.8, 15, 1.0, True),\n",
        "   (0.2, 14, 0.0, False),]},\n",
        " 15: {0: [(1.0, 15, 0, True)],\n",
        "  1: [(1.0, 15, 0, True)],\n",
        "  2: [(1.0, 15, 0, True)],\n",
        "  3: [(1.0, 15, 0, True)]}}"
      ],
      "metadata": {
        "id": "WdcfGZ5C51BT"
      },
      "execution_count": null,
      "outputs": []
    },
    {
      "cell_type": "markdown",
      "source": [
        "# Value Iteration Algorithm"
      ],
      "metadata": {
        "id": "TycyEMuPgy3M"
      }
    },
    {
      "cell_type": "code",
      "source": [
        "def value_iteration(P, gamma=1.0, theta=1e-10):\n",
        "    V = np.zeros(len(P), dtype=np.float64)\n",
        "    # Write your code here\n",
        "    while True:\n",
        "      Q = np.zeros((len(P),len(P[0])), dtype = np.float64)\n",
        "      for s in range(len(P)):\n",
        "        for a in range(len(P[s])):\n",
        "          for prob,next_state,reward,done in P[s][a]:\n",
        "            Q[s][a] += prob * (reward + gamma * V[next_state] * (not done))\n",
        "      if np.max(np.abs(V - np.max(Q,axis = 1))) < theta:\n",
        "        break\n",
        "      V = np.max(Q,axis = 1)\n",
        "    pi = lambda s: {s:a for s,a in enumerate(np.argmax(Q,axis = 1))}[s]\n",
        "\n",
        "\n",
        "\n",
        "    return V, pi"
      ],
      "metadata": {
        "id": "AUlEXpzRgu_n"
      },
      "execution_count": null,
      "outputs": []
    },
    {
      "cell_type": "code",
      "source": [
        "# Finding the optimal policy\n",
        "V_best_v, pi_best_v = value_iteration(P, gamma=0.99)\n"
      ],
      "metadata": {
        "id": "DKT7CNWjfprP"
      },
      "execution_count": null,
      "outputs": []
    },
    {
      "cell_type": "code",
      "source": [
        "\n",
        "\n",
        "print('Optimal policy and state-value function (VI):')\n",
        "print_policy(pi_best_v, P)"
      ],
      "metadata": {
        "id": "P2VMyY0fhd6B",
        "colab": {
          "base_uri": "https://localhost:8080/"
        },
        "outputId": "eaf7a47a-8121-403b-be59-eb0ebb649928"
      },
      "execution_count": null,
      "outputs": [
        {
          "output_type": "stream",
          "name": "stdout",
          "text": [
            "Optimal policy and state-value function (VI):\n",
            "Policy:\n",
            "| 00      < | 01      ^ | 02      ^ | 03      ^ |\n",
            "| 04      < |           | 06      < |           |\n",
            "|           | 09      v | 10      < |           |\n",
            "|           | 13      > | 14      v | 15      v |\n"
          ]
        }
      ]
    },
    {
      "cell_type": "code",
      "source": [
        "\n",
        "print('Reaches goal {:.2f}%. Obtains an average undiscounted return of {:.4f}.'.format(\n",
        "    probability_success(env, pi_best_v, goal_state=8)*100,\n",
        "    mean_return(env, pi_best_v)))"
      ],
      "metadata": {
        "id": "yEDEsHpWh3EB",
        "colab": {
          "base_uri": "https://localhost:8080/"
        },
        "outputId": "0d6a3cad-3dbb-4a9e-c04f-493f04a1f427"
      },
      "execution_count": null,
      "outputs": [
        {
          "output_type": "stream",
          "name": "stdout",
          "text": [
            "Reaches goal 100.00%. Obtains an average undiscounted return of 1.0000.\n"
          ]
        }
      ]
    },
    {
      "cell_type": "code",
      "source": [
        "\n",
        "print_state_value_function(V_best_v, P, prec=4)"
      ],
      "metadata": {
        "id": "0i9CtQQ3iDFF",
        "colab": {
          "base_uri": "https://localhost:8080/"
        },
        "outputId": "274ecd70-c9d0-41f2-e352-99d7db9c9419"
      },
      "execution_count": null,
      "outputs": [
        {
          "output_type": "stream",
          "name": "stdout",
          "text": [
            "State-value function:\n",
            "| 00 0.9251 | 01 0.8514 | 02 0.8034 | 03 0.7798 |\n",
            "| 04 0.9532 |           | 06  0.476 |           |\n",
            "|           | 09 0.7815 | 10 0.6389 |           |\n",
            "|           | 13 0.7192 | 14 0.6787 | 15 0.6587 |\n"
          ]
        }
      ]
    }
  ]
}